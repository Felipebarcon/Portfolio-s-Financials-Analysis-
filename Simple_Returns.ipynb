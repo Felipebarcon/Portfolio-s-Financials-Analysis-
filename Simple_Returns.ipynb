{
 "cells": [
  {
   "cell_type": "code",
   "id": "initial_id",
   "metadata": {
    "collapsed": true,
    "ExecuteTime": {
     "end_time": "2024-06-25T08:57:19.914313Z",
     "start_time": "2024-06-25T08:57:19.859679Z"
    }
   },
   "source": "import numpy as np",
   "outputs": [],
   "execution_count": 1
  },
  {
   "metadata": {
    "ExecuteTime": {
     "end_time": "2024-06-25T08:57:34.066666Z",
     "start_time": "2024-06-25T08:57:33.809298Z"
    }
   },
   "cell_type": "code",
   "source": "from pandas_datareader import data as wb",
   "id": "bfa1955ec174e6f6",
   "outputs": [],
   "execution_count": 2
  },
  {
   "metadata": {
    "ExecuteTime": {
     "end_time": "2024-06-25T08:58:24.430703Z",
     "start_time": "2024-06-25T08:58:24.428808Z"
    }
   },
   "cell_type": "code",
   "source": "import matplotlib.pyplot as plt",
   "id": "f9daedc05a021767",
   "outputs": [],
   "execution_count": 5
  },
  {
   "metadata": {
    "ExecuteTime": {
     "end_time": "2024-06-25T09:01:14.976360Z",
     "start_time": "2024-06-25T09:01:14.969074Z"
    }
   },
   "cell_type": "code",
   "source": [
    "import yfinance as yf\n",
    "yf.pdr_override()"
   ],
   "id": "b1563fdbe5caaf33",
   "outputs": [
    {
     "name": "stdout",
     "output_type": "stream",
     "text": [
      "yfinance: pandas_datareader support is deprecated & semi-broken so will be removed in a future verison. Just use yfinance.\n"
     ]
    }
   ],
   "execution_count": 10
  },
  {
   "metadata": {},
   "cell_type": "code",
   "outputs": [],
   "execution_count": null,
   "source": "# Simple Returns",
   "id": "8b35662cda37cb4e"
  },
  {
   "metadata": {
    "ExecuteTime": {
     "end_time": "2024-06-25T09:10:48.572783Z",
     "start_time": "2024-06-25T09:10:48.042221Z"
    }
   },
   "cell_type": "code",
   "source": "PG = wb.get_data_yahoo('PG', start='1998-1-1')",
   "id": "cda19b848481efcb",
   "outputs": [
    {
     "name": "stderr",
     "output_type": "stream",
     "text": [
      "[*********************100%%**********************]  1 of 1 completed\n"
     ]
    }
   ],
   "execution_count": 19
  },
  {
   "metadata": {
    "ExecuteTime": {
     "end_time": "2024-06-25T09:10:49.682834Z",
     "start_time": "2024-06-25T09:10:49.677125Z"
    }
   },
   "cell_type": "code",
   "source": "PG.head()",
   "id": "d1013bbcece27c0d",
   "outputs": [
    {
     "data": {
      "text/plain": [
       "                Open      High       Low     Close  Adj Close   Volume\n",
       "Date                                                                  \n",
       "1998-01-02  39.65625  40.46875  39.43750  40.46875   40.46875  3088400\n",
       "1998-01-05  40.59375  41.40625  40.21875  41.28125   41.28125  4996400\n",
       "1998-01-06  40.75000  41.37500  40.71875  41.15625   41.15625  3845400\n",
       "1998-01-07  40.81250  40.87500  40.28125  40.71875   40.71875  4284600\n",
       "1998-01-08  40.50000  40.71875  40.25000  40.25000   40.25000  2909200"
      ],
      "text/html": [
       "<div>\n",
       "<style scoped>\n",
       "    .dataframe tbody tr th:only-of-type {\n",
       "        vertical-align: middle;\n",
       "    }\n",
       "\n",
       "    .dataframe tbody tr th {\n",
       "        vertical-align: top;\n",
       "    }\n",
       "\n",
       "    .dataframe thead th {\n",
       "        text-align: right;\n",
       "    }\n",
       "</style>\n",
       "<table border=\"1\" class=\"dataframe\">\n",
       "  <thead>\n",
       "    <tr style=\"text-align: right;\">\n",
       "      <th></th>\n",
       "      <th>Open</th>\n",
       "      <th>High</th>\n",
       "      <th>Low</th>\n",
       "      <th>Close</th>\n",
       "      <th>Adj Close</th>\n",
       "      <th>Volume</th>\n",
       "    </tr>\n",
       "    <tr>\n",
       "      <th>Date</th>\n",
       "      <th></th>\n",
       "      <th></th>\n",
       "      <th></th>\n",
       "      <th></th>\n",
       "      <th></th>\n",
       "      <th></th>\n",
       "    </tr>\n",
       "  </thead>\n",
       "  <tbody>\n",
       "    <tr>\n",
       "      <th>1998-01-02</th>\n",
       "      <td>39.65625</td>\n",
       "      <td>40.46875</td>\n",
       "      <td>39.43750</td>\n",
       "      <td>40.46875</td>\n",
       "      <td>40.46875</td>\n",
       "      <td>3088400</td>\n",
       "    </tr>\n",
       "    <tr>\n",
       "      <th>1998-01-05</th>\n",
       "      <td>40.59375</td>\n",
       "      <td>41.40625</td>\n",
       "      <td>40.21875</td>\n",
       "      <td>41.28125</td>\n",
       "      <td>41.28125</td>\n",
       "      <td>4996400</td>\n",
       "    </tr>\n",
       "    <tr>\n",
       "      <th>1998-01-06</th>\n",
       "      <td>40.75000</td>\n",
       "      <td>41.37500</td>\n",
       "      <td>40.71875</td>\n",
       "      <td>41.15625</td>\n",
       "      <td>41.15625</td>\n",
       "      <td>3845400</td>\n",
       "    </tr>\n",
       "    <tr>\n",
       "      <th>1998-01-07</th>\n",
       "      <td>40.81250</td>\n",
       "      <td>40.87500</td>\n",
       "      <td>40.28125</td>\n",
       "      <td>40.71875</td>\n",
       "      <td>40.71875</td>\n",
       "      <td>4284600</td>\n",
       "    </tr>\n",
       "    <tr>\n",
       "      <th>1998-01-08</th>\n",
       "      <td>40.50000</td>\n",
       "      <td>40.71875</td>\n",
       "      <td>40.25000</td>\n",
       "      <td>40.25000</td>\n",
       "      <td>40.25000</td>\n",
       "      <td>2909200</td>\n",
       "    </tr>\n",
       "  </tbody>\n",
       "</table>\n",
       "</div>"
      ]
     },
     "execution_count": 20,
     "metadata": {},
     "output_type": "execute_result"
    }
   ],
   "execution_count": 20
  },
  {
   "metadata": {
    "ExecuteTime": {
     "end_time": "2024-06-25T09:10:50.484127Z",
     "start_time": "2024-06-25T09:10:50.479845Z"
    }
   },
   "cell_type": "code",
   "source": "PG.tail()",
   "id": "56bed2820207d115",
   "outputs": [
    {
     "data": {
      "text/plain": [
       "                  Open        High         Low       Close   Adj Close  \\\n",
       "Date                                                                     \n",
       "2024-06-17  165.850006  168.710007  165.399994  167.500000  167.500000   \n",
       "2024-06-18  167.029999  168.649994  166.940002  168.559998  168.559998   \n",
       "2024-06-20  168.369995  168.779999  166.860001  167.669998  167.669998   \n",
       "2024-06-21  167.479996  168.880005  167.179993  168.259995  168.259995   \n",
       "2024-06-24  168.759995  169.410004  167.479996  168.449997  168.449997   \n",
       "\n",
       "              Volume  \n",
       "Date                  \n",
       "2024-06-17   6759400  \n",
       "2024-06-18   5112600  \n",
       "2024-06-20   8483600  \n",
       "2024-06-21  14682000  \n",
       "2024-06-24   7565200  "
      ],
      "text/html": [
       "<div>\n",
       "<style scoped>\n",
       "    .dataframe tbody tr th:only-of-type {\n",
       "        vertical-align: middle;\n",
       "    }\n",
       "\n",
       "    .dataframe tbody tr th {\n",
       "        vertical-align: top;\n",
       "    }\n",
       "\n",
       "    .dataframe thead th {\n",
       "        text-align: right;\n",
       "    }\n",
       "</style>\n",
       "<table border=\"1\" class=\"dataframe\">\n",
       "  <thead>\n",
       "    <tr style=\"text-align: right;\">\n",
       "      <th></th>\n",
       "      <th>Open</th>\n",
       "      <th>High</th>\n",
       "      <th>Low</th>\n",
       "      <th>Close</th>\n",
       "      <th>Adj Close</th>\n",
       "      <th>Volume</th>\n",
       "    </tr>\n",
       "    <tr>\n",
       "      <th>Date</th>\n",
       "      <th></th>\n",
       "      <th></th>\n",
       "      <th></th>\n",
       "      <th></th>\n",
       "      <th></th>\n",
       "      <th></th>\n",
       "    </tr>\n",
       "  </thead>\n",
       "  <tbody>\n",
       "    <tr>\n",
       "      <th>2024-06-17</th>\n",
       "      <td>165.850006</td>\n",
       "      <td>168.710007</td>\n",
       "      <td>165.399994</td>\n",
       "      <td>167.500000</td>\n",
       "      <td>167.500000</td>\n",
       "      <td>6759400</td>\n",
       "    </tr>\n",
       "    <tr>\n",
       "      <th>2024-06-18</th>\n",
       "      <td>167.029999</td>\n",
       "      <td>168.649994</td>\n",
       "      <td>166.940002</td>\n",
       "      <td>168.559998</td>\n",
       "      <td>168.559998</td>\n",
       "      <td>5112600</td>\n",
       "    </tr>\n",
       "    <tr>\n",
       "      <th>2024-06-20</th>\n",
       "      <td>168.369995</td>\n",
       "      <td>168.779999</td>\n",
       "      <td>166.860001</td>\n",
       "      <td>167.669998</td>\n",
       "      <td>167.669998</td>\n",
       "      <td>8483600</td>\n",
       "    </tr>\n",
       "    <tr>\n",
       "      <th>2024-06-21</th>\n",
       "      <td>167.479996</td>\n",
       "      <td>168.880005</td>\n",
       "      <td>167.179993</td>\n",
       "      <td>168.259995</td>\n",
       "      <td>168.259995</td>\n",
       "      <td>14682000</td>\n",
       "    </tr>\n",
       "    <tr>\n",
       "      <th>2024-06-24</th>\n",
       "      <td>168.759995</td>\n",
       "      <td>169.410004</td>\n",
       "      <td>167.479996</td>\n",
       "      <td>168.449997</td>\n",
       "      <td>168.449997</td>\n",
       "      <td>7565200</td>\n",
       "    </tr>\n",
       "  </tbody>\n",
       "</table>\n",
       "</div>"
      ]
     },
     "execution_count": 21,
     "metadata": {},
     "output_type": "execute_result"
    }
   ],
   "execution_count": 21
  },
  {
   "metadata": {
    "ExecuteTime": {
     "end_time": "2024-06-25T09:10:51.198668Z",
     "start_time": "2024-06-25T09:10:51.194631Z"
    }
   },
   "cell_type": "code",
   "source": [
    "PG['simple_return'] = (PG['Adj Close'] / PG['Adj Close'].shift(1)) - 1\n",
    "PG['simple_return'].tail(20)"
   ],
   "id": "147f8b923ab3645d",
   "outputs": [
    {
     "data": {
      "text/plain": [
       "Date\n",
       "2024-05-24   -0.000967\n",
       "2024-05-28   -0.013428\n",
       "2024-05-29   -0.008951\n",
       "2024-05-30    0.005753\n",
       "2024-05-31    0.012056\n",
       "2024-06-03    0.000669\n",
       "2024-06-04    0.014333\n",
       "2024-06-05   -0.005748\n",
       "2024-06-06    0.014574\n",
       "2024-06-07   -0.008369\n",
       "2024-06-10    0.001736\n",
       "2024-06-11    0.000777\n",
       "2024-06-12   -0.013733\n",
       "2024-06-13    0.007446\n",
       "2024-06-14    0.002283\n",
       "2024-06-17    0.004257\n",
       "2024-06-18    0.006328\n",
       "2024-06-20   -0.005280\n",
       "2024-06-21    0.003519\n",
       "2024-06-24    0.001129\n",
       "Name: simple_return, dtype: float64"
      ]
     },
     "execution_count": 22,
     "metadata": {},
     "output_type": "execute_result"
    }
   ],
   "execution_count": 22
  },
  {
   "metadata": {
    "ExecuteTime": {
     "end_time": "2024-06-25T09:10:52.176046Z",
     "start_time": "2024-06-25T09:10:52.051070Z"
    }
   },
   "cell_type": "code",
   "source": [
    "PG['simple_return'].plot(figsize=(8, 5))\n",
    "plt.show()"
   ],
   "id": "383f2535b5824b50",
   "outputs": [
    {
     "data": {
      "text/plain": [
       "<Figure size 800x500 with 1 Axes>"
      ],
      "image/png": "[encoded data removed]"
     },
     "metadata": {},
     "output_type": "display_data"
    }
   ],
   "execution_count": 23
  },
  {
   "metadata": {
    "ExecuteTime": {
     "end_time": "2024-06-25T09:11:24.681345Z",
     "start_time": "2024-06-25T09:11:24.678810Z"
    }
   },
   "cell_type": "code",
   "source": [
    "avg_returns_d = PG['simple_return'].mean()\n",
    "avg_returns_d"
   ],
   "id": "bbb4b4bc9b9099a3",
   "outputs": [
    {
     "data": {
      "text/plain": [
       "0.00031108950062463855"
      ]
     },
     "execution_count": 24,
     "metadata": {},
     "output_type": "execute_result"
    }
   ],
   "execution_count": 24
  },
  {
   "metadata": {
    "ExecuteTime": {
     "end_time": "2024-06-25T09:13:07.332151Z",
     "start_time": "2024-06-25T09:13:07.329676Z"
    }
   },
   "cell_type": "code",
   "source": [
    "avg_returns_a = PG['simple_return'].mean() * 250\n",
    "avg_returns_a"
   ],
   "id": "c728ae35078e46d3",
   "outputs": [
    {
     "data": {
      "text/plain": [
       "0.07777237515615963"
      ]
     },
     "execution_count": 25,
     "metadata": {},
     "output_type": "execute_result"
    }
   ],
   "execution_count": 25
  },
  {
   "metadata": {
    "ExecuteTime": {
     "end_time": "2024-06-25T09:14:33.944485Z",
     "start_time": "2024-06-25T09:14:33.942175Z"
    }
   },
   "cell_type": "code",
   "source": "round(avg_returns_a, 3) * 100",
   "id": "21aa77066a436653",
   "outputs": [
    {
     "data": {
      "text/plain": [
       "7.8"
      ]
     },
     "execution_count": 29,
     "metadata": {},
     "output_type": "execute_result"
    }
   ],
   "execution_count": 29
  },
  {
   "metadata": {
    "ExecuteTime": {
     "end_time": "2024-06-25T09:15:50.065935Z",
     "start_time": "2024-06-25T09:15:49.379902Z"
    }
   },
   "cell_type": "code",
   "source": "apple = wb.get_data_yahoo('AAPL', start='1998-1-1')",
   "id": "7e57fa542ed02409",
   "outputs": [
    {
     "name": "stderr",
     "output_type": "stream",
     "text": [
      "[*********************100%%**********************]  1 of 1 completed\n"
     ]
    }
   ],
   "execution_count": 31
  },
  {
   "metadata": {
    "ExecuteTime": {
     "end_time": "2024-06-25T09:16:59.699907Z",
     "start_time": "2024-06-25T09:16:59.696068Z"
    }
   },
   "cell_type": "code",
   "source": [
    "apple['simple_return'] = (apple['Adj Close'] / apple['Adj Close'].shift(1)) - 1\n",
    "apple['simple_return'].tail(20)"
   ],
   "id": "91adc4c7f700a797",
   "outputs": [
    {
     "data": {
      "text/plain": [
       "Date\n",
       "2024-05-24    0.016588\n",
       "2024-05-28    0.000053\n",
       "2024-05-29    0.001579\n",
       "2024-05-30    0.005255\n",
       "2024-05-31    0.005019\n",
       "2024-06-03    0.009259\n",
       "2024-06-04    0.001649\n",
       "2024-06-05    0.007821\n",
       "2024-06-06   -0.007097\n",
       "2024-06-07    0.012392\n",
       "2024-06-10   -0.019148\n",
       "2024-06-11    0.072649\n",
       "2024-06-12    0.028578\n",
       "2024-06-13    0.005491\n",
       "2024-06-14   -0.008168\n",
       "2024-06-17    0.019671\n",
       "2024-06-18   -0.010984\n",
       "2024-06-20   -0.021513\n",
       "2024-06-21   -0.010444\n",
       "2024-06-24    0.003133\n",
       "Name: simple_return, dtype: float64"
      ]
     },
     "execution_count": 32,
     "metadata": {},
     "output_type": "execute_result"
    }
   ],
   "execution_count": 32
  },
  {
   "metadata": {
    "ExecuteTime": {
     "end_time": "2024-06-25T09:18:11.461522Z",
     "start_time": "2024-06-25T09:18:11.366804Z"
    }
   },
   "cell_type": "code",
   "source": "apple['simple_return'].plot(figsize=(8, 5))",
   "id": "cee4a6d82c48873",
   "outputs": [
    {
     "data": {
      "text/plain": [
       "<Axes: xlabel='Date'>"
      ]
     },
     "execution_count": 40,
     "metadata": {},
     "output_type": "execute_result"
    },
    {
     "data": {
      "text/plain": [
       "<Figure size 800x500 with 1 Axes>"
      ],
      "image/png": "[encoded data removed]"
     },
     "metadata": {},
     "output_type": "display_data"
    }
   ],
   "execution_count": 40
  },
  {
   "metadata": {
    "ExecuteTime": {
     "end_time": "2024-06-25T09:19:15.156273Z",
     "start_time": "2024-06-25T09:19:15.153605Z"
    }
   },
   "cell_type": "code",
   "source": [
    "avg_returns_apple = apple['simple_return'].mean() * 250\n",
    "avg_returns_apple"
   ],
   "id": "11c7ee07421cec67",
   "outputs": [
    {
     "data": {
      "text/plain": [
       "0.36481165250537007"
      ]
     },
     "execution_count": 42,
     "metadata": {},
     "output_type": "execute_result"
    }
   ],
   "execution_count": 42
  },
  {
   "metadata": {
    "ExecuteTime": {
     "end_time": "2024-06-25T09:19:43.096264Z",
     "start_time": "2024-06-25T09:19:43.093447Z"
    }
   },
   "cell_type": "code",
   "source": [
    "avg_returns_apple_rounded = round(avg_returns_apple, 5) * 100\n",
    "avg_returns_apple_rounded"
   ],
   "id": "2e2d02b1d115e8a6",
   "outputs": [
    {
     "data": {
      "text/plain": [
       "36.481"
      ]
     },
     "execution_count": 43,
     "metadata": {},
     "output_type": "execute_result"
    }
   ],
   "execution_count": 43
  },
  {
   "metadata": {
    "ExecuteTime": {
     "end_time": "2024-06-25T09:20:46.280858Z",
     "start_time": "2024-06-25T09:20:46.279330Z"
    }
   },
   "cell_type": "code",
   "source": "# Logarithmic Returns",
   "id": "7dd755421967668d",
   "outputs": [],
   "execution_count": 44
  },
  {
   "metadata": {
    "ExecuteTime": {
     "end_time": "2024-06-25T09:20:56.537095Z",
     "start_time": "2024-06-25T09:20:56.533332Z"
    }
   },
   "cell_type": "code",
   "source": "apple.head()",
   "id": "9af98d49244ed592",
   "outputs": [
    {
     "data": {
      "text/plain": [
       "                Open      High       Low     Close  Adj Close      Volume  \\\n",
       "Date                                                                        \n",
       "1998-01-02  0.121652  0.145089  0.120536  0.145089   0.122666   718110400   \n",
       "1998-01-05  0.147321  0.147879  0.135603  0.141741   0.119835   651873600   \n",
       "1998-01-06  0.142299  0.178571  0.131696  0.169085   0.142953  1812473600   \n",
       "1998-01-07  0.167969  0.169643  0.154576  0.156250   0.132102  1041622400   \n",
       "1998-01-08  0.155692  0.166295  0.151228  0.162388   0.137291   774020800   \n",
       "\n",
       "            simple_return  \n",
       "Date                       \n",
       "1998-01-02            NaN  \n",
       "1998-01-05      -0.023076  \n",
       "1998-01-06       0.192916  \n",
       "1998-01-07      -0.075909  \n",
       "1998-01-08       0.039283  "
      ],
      "text/html": [
       "<div>\n",
       "<style scoped>\n",
       "    .dataframe tbody tr th:only-of-type {\n",
       "        vertical-align: middle;\n",
       "    }\n",
       "\n",
       "    .dataframe tbody tr th {\n",
       "        vertical-align: top;\n",
       "    }\n",
       "\n",
       "    .dataframe thead th {\n",
       "        text-align: right;\n",
       "    }\n",
       "</style>\n",
       "<table border=\"1\" class=\"dataframe\">\n",
       "  <thead>\n",
       "    <tr style=\"text-align: right;\">\n",
       "      <th></th>\n",
       "      <th>Open</th>\n",
       "      <th>High</th>\n",
       "      <th>Low</th>\n",
       "      <th>Close</th>\n",
       "      <th>Adj Close</th>\n",
       "      <th>Volume</th>\n",
       "      <th>simple_return</th>\n",
       "    </tr>\n",
       "    <tr>\n",
       "      <th>Date</th>\n",
       "      <th></th>\n",
       "      <th></th>\n",
       "      <th></th>\n",
       "      <th></th>\n",
       "      <th></th>\n",
       "      <th></th>\n",
       "      <th></th>\n",
       "    </tr>\n",
       "  </thead>\n",
       "  <tbody>\n",
       "    <tr>\n",
       "      <th>1998-01-02</th>\n",
       "      <td>0.121652</td>\n",
       "      <td>0.145089</td>\n",
       "      <td>0.120536</td>\n",
       "      <td>0.145089</td>\n",
       "      <td>0.122666</td>\n",
       "      <td>718110400</td>\n",
       "      <td>NaN</td>\n",
       "    </tr>\n",
       "    <tr>\n",
       "      <th>1998-01-05</th>\n",
       "      <td>0.147321</td>\n",
       "      <td>0.147879</td>\n",
       "      <td>0.135603</td>\n",
       "      <td>0.141741</td>\n",
       "      <td>0.119835</td>\n",
       "      <td>651873600</td>\n",
       "      <td>-0.023076</td>\n",
       "    </tr>\n",
       "    <tr>\n",
       "      <th>1998-01-06</th>\n",
       "      <td>0.142299</td>\n",
       "      <td>0.178571</td>\n",
       "      <td>0.131696</td>\n",
       "      <td>0.169085</td>\n",
       "      <td>0.142953</td>\n",
       "      <td>1812473600</td>\n",
       "      <td>0.192916</td>\n",
       "    </tr>\n",
       "    <tr>\n",
       "      <th>1998-01-07</th>\n",
       "      <td>0.167969</td>\n",
       "      <td>0.169643</td>\n",
       "      <td>0.154576</td>\n",
       "      <td>0.156250</td>\n",
       "      <td>0.132102</td>\n",
       "      <td>1041622400</td>\n",
       "      <td>-0.075909</td>\n",
       "    </tr>\n",
       "    <tr>\n",
       "      <th>1998-01-08</th>\n",
       "      <td>0.155692</td>\n",
       "      <td>0.166295</td>\n",
       "      <td>0.151228</td>\n",
       "      <td>0.162388</td>\n",
       "      <td>0.137291</td>\n",
       "      <td>774020800</td>\n",
       "      <td>0.039283</td>\n",
       "    </tr>\n",
       "  </tbody>\n",
       "</table>\n",
       "</div>"
      ]
     },
     "execution_count": 45,
     "metadata": {},
     "output_type": "execute_result"
    }
   ],
   "execution_count": 45
  },
  {
   "metadata": {
    "ExecuteTime": {
     "end_time": "2024-06-25T09:21:11.260738Z",
     "start_time": "2024-06-25T09:21:11.258093Z"
    }
   },
   "cell_type": "code",
   "source": [
    "apple['log_return'] = np.log(apple['Adj Close'] / apple['Adj Close'].shift(1))\n",
    "print(apple['log_return'])"
   ],
   "id": "5e8affc0412ae5c5",
   "outputs": [
    {
     "name": "stdout",
     "output_type": "stream",
     "text": [
      "Date\n",
      "1998-01-02         NaN\n",
      "1998-01-05   -0.023346\n",
      "1998-01-06    0.176401\n",
      "1998-01-07   -0.078944\n",
      "1998-01-08    0.038531\n",
      "                ...   \n",
      "2024-06-17    0.019480\n",
      "2024-06-18   -0.011045\n",
      "2024-06-20   -0.021748\n",
      "2024-06-21   -0.010499\n",
      "2024-06-24    0.003128\n",
      "Name: log_return, Length: 6661, dtype: float64\n"
     ]
    }
   ],
   "execution_count": 46
  },
  {
   "metadata": {
    "ExecuteTime": {
     "end_time": "2024-06-25T09:21:30.717050Z",
     "start_time": "2024-06-25T09:21:30.641511Z"
    }
   },
   "cell_type": "code",
   "source": [
    "apple['log_return'].plot(figsize=(8, 5))\n",
    "plt.show()"
   ],
   "id": "db8d0d5cfeae9a0f",
   "outputs": [
    {
     "data": {
      "text/plain": [
       "<Figure size 800x500 with 1 Axes>"
      ],
      "image/png": "[encoded data removed]"
     },
     "metadata": {},
     "output_type": "display_data"
    }
   ],
   "execution_count": 47
  },
  {
   "metadata": {
    "ExecuteTime": {
     "end_time": "2024-06-25T09:21:53.180081Z",
     "start_time": "2024-06-25T09:21:53.177255Z"
    }
   },
   "cell_type": "code",
   "source": [
    "log_return_apple = apple['log_return'].mean()\n",
    "log_return_apple"
   ],
   "id": "892cca572523733a",
   "outputs": [
    {
     "data": {
      "text/plain": [
       "0.0011165918938972114"
      ]
     },
     "execution_count": 48,
     "metadata": {},
     "output_type": "execute_result"
    }
   ],
   "execution_count": 48
  },
  {
   "metadata": {
    "ExecuteTime": {
     "end_time": "2024-06-25T09:22:30.916822Z",
     "start_time": "2024-06-25T09:22:30.914331Z"
    }
   },
   "cell_type": "code",
   "source": [
    "log_return_apple_yearly = apple['log_return'].mean() * 250\n",
    "log_return_apple_yearly"
   ],
   "id": "ea01108d859c713f",
   "outputs": [
    {
     "data": {
      "text/plain": [
       "0.2791479734743028"
      ]
     },
     "execution_count": 49,
     "metadata": {},
     "output_type": "execute_result"
    }
   ],
   "execution_count": 49
  },
  {
   "metadata": {
    "ExecuteTime": {
     "end_time": "2024-06-25T09:22:46.001185Z",
     "start_time": "2024-06-25T09:22:45.998896Z"
    }
   },
   "cell_type": "code",
   "source": [
    "log_return_apple_yearly_rounded = round(log_return_apple_yearly, 5) * 100\n",
    "log_return_apple_yearly_rounded"
   ],
   "id": "6ee2dfed29a220ad",
   "outputs": [
    {
     "data": {
      "text/plain": [
       "27.915"
      ]
     },
     "execution_count": 51,
     "metadata": {},
     "output_type": "execute_result"
    }
   ],
   "execution_count": 51
  }
 ],
 "metadata": {
  "kernelspec": {
   "display_name": "Python 3",
   "language": "python",
   "name": "python3"
  },
  "language_info": {
   "codemirror_mode": {
    "name": "ipython",
    "version": 2
   },
   "file_extension": ".py",
   "mimetype": "text/x-python",
   "name": "python",
   "nbconvert_exporter": "python",
   "pygments_lexer": "ipython2",
   "version": "2.7.6"
  }
 },
 "nbformat": 4,
 "nbformat_minor": 5
}
