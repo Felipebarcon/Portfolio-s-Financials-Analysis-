{
 "cells": [
  {
   "cell_type": "code",
   "id": "initial_id",
   "metadata": {
    "collapsed": true,
    "ExecuteTime": {
     "end_time": "2024-06-25T19:43:43.425181Z",
     "start_time": "2024-06-25T19:43:43.323926Z"
    }
   },
   "source": "import numpy as np",
   "outputs": [],
   "execution_count": 1
  },
  {
   "metadata": {
    "ExecuteTime": {
     "end_time": "2024-06-25T19:43:51.267876Z",
     "start_time": "2024-06-25T19:43:51.036882Z"
    }
   },
   "cell_type": "code",
   "source": "import pandas as pd",
   "id": "ba5d61f7497a5e79",
   "outputs": [],
   "execution_count": 2
  },
  {
   "metadata": {
    "ExecuteTime": {
     "end_time": "2024-06-25T19:44:10.366550Z",
     "start_time": "2024-06-25T19:44:10.318584Z"
    }
   },
   "cell_type": "code",
   "source": "import pandas_datareader as wb",
   "id": "60e35953810e2c82",
   "outputs": [],
   "execution_count": 3
  },
  {
   "metadata": {
    "ExecuteTime": {
     "end_time": "2024-06-25T19:44:18.953761Z",
     "start_time": "2024-06-25T19:44:18.752409Z"
    }
   },
   "cell_type": "code",
   "source": "import matplotlib.pyplot as plt",
   "id": "2e89e35eab0693b9",
   "outputs": [],
   "execution_count": 4
  },
  {
   "metadata": {
    "ExecuteTime": {
     "end_time": "2024-06-25T19:44:41.111874Z",
     "start_time": "2024-06-25T19:44:41.046594Z"
    }
   },
   "cell_type": "code",
   "source": [
    "import yfinance as yf\n",
    "yf.pdr_override()"
   ],
   "id": "634aa91c6d4a7742",
   "outputs": [
    {
     "name": "stdout",
     "output_type": "stream",
     "text": [
      "yfinance: pandas_datareader support is deprecated & semi-broken so will be removed in a future verison. Just use yfinance.\n"
     ]
    }
   ],
   "execution_count": 5
  },
  {
   "metadata": {
    "ExecuteTime": {
     "end_time": "2024-06-25T20:03:04.634691Z",
     "start_time": "2024-06-25T20:03:03.869765Z"
    }
   },
   "cell_type": "code",
   "source": [
    "tickers = ['AAPL', 'NVDA']\n",
    "sec_data = pd.DataFrame()\n",
    "\n",
    "for t in tickers:\n",
    "    sec_data[t] = yf.download(t, start='2007-1-1')['Adj Close']"
   ],
   "id": "e9e37c7dd54dae71",
   "outputs": [
    {
     "name": "stderr",
     "output_type": "stream",
     "text": [
      "[*********************100%%**********************]  1 of 1 completed\n",
      "[*********************100%%**********************]  1 of 1 completed\n"
     ]
    }
   ],
   "execution_count": 18
  },
  {
   "metadata": {
    "ExecuteTime": {
     "end_time": "2024-06-25T20:03:06.116632Z",
     "start_time": "2024-06-25T20:03:06.113346Z"
    }
   },
   "cell_type": "code",
   "source": "sec_data.tail()",
   "id": "b39936833f7c0816",
   "outputs": [
    {
     "data": {
      "text/plain": [
       "                  AAPL        NVDA\n",
       "Date                              \n",
       "2024-06-18  214.289993  135.580002\n",
       "2024-06-20  209.679993  130.779999\n",
       "2024-06-21  207.490005  126.570000\n",
       "2024-06-24  208.139999  118.110001\n",
       "2024-06-25  209.070007  126.089996"
      ],
      "text/html": [
       "<div>\n",
       "<style scoped>\n",
       "    .dataframe tbody tr th:only-of-type {\n",
       "        vertical-align: middle;\n",
       "    }\n",
       "\n",
       "    .dataframe tbody tr th {\n",
       "        vertical-align: top;\n",
       "    }\n",
       "\n",
       "    .dataframe thead th {\n",
       "        text-align: right;\n",
       "    }\n",
       "</style>\n",
       "<table border=\"1\" class=\"dataframe\">\n",
       "  <thead>\n",
       "    <tr style=\"text-align: right;\">\n",
       "      <th></th>\n",
       "      <th>AAPL</th>\n",
       "      <th>NVDA</th>\n",
       "    </tr>\n",
       "    <tr>\n",
       "      <th>Date</th>\n",
       "      <th></th>\n",
       "      <th></th>\n",
       "    </tr>\n",
       "  </thead>\n",
       "  <tbody>\n",
       "    <tr>\n",
       "      <th>2024-06-18</th>\n",
       "      <td>214.289993</td>\n",
       "      <td>135.580002</td>\n",
       "    </tr>\n",
       "    <tr>\n",
       "      <th>2024-06-20</th>\n",
       "      <td>209.679993</td>\n",
       "      <td>130.779999</td>\n",
       "    </tr>\n",
       "    <tr>\n",
       "      <th>2024-06-21</th>\n",
       "      <td>207.490005</td>\n",
       "      <td>126.570000</td>\n",
       "    </tr>\n",
       "    <tr>\n",
       "      <th>2024-06-24</th>\n",
       "      <td>208.139999</td>\n",
       "      <td>118.110001</td>\n",
       "    </tr>\n",
       "    <tr>\n",
       "      <th>2024-06-25</th>\n",
       "      <td>209.070007</td>\n",
       "      <td>126.089996</td>\n",
       "    </tr>\n",
       "  </tbody>\n",
       "</table>\n",
       "</div>"
      ]
     },
     "execution_count": 19,
     "metadata": {},
     "output_type": "execute_result"
    }
   ],
   "execution_count": 19
  },
  {
   "metadata": {
    "ExecuteTime": {
     "end_time": "2024-06-25T20:04:26.414141Z",
     "start_time": "2024-06-25T20:04:26.408832Z"
    }
   },
   "cell_type": "code",
   "source": [
    "sec_returns = np.log(sec_data / sec_data.shift(1))\n",
    "sec_returns"
   ],
   "id": "2f487eceab7df695",
   "outputs": [
    {
     "data": {
      "text/plain": [
       "                AAPL      NVDA\n",
       "Date                          \n",
       "2007-01-03       NaN       NaN\n",
       "2007-01-04  0.021953 -0.004722\n",
       "2007-01-05 -0.007147 -0.064706\n",
       "2007-01-08  0.004926  0.007400\n",
       "2007-01-09  0.079800 -0.019655\n",
       "...              ...       ...\n",
       "2024-06-18 -0.011045  0.034517\n",
       "2024-06-20 -0.021748 -0.036045\n",
       "2024-06-21 -0.010499 -0.032721\n",
       "2024-06-24  0.003128 -0.069179\n",
       "2024-06-25  0.004458  0.065380\n",
       "\n",
       "[4399 rows x 2 columns]"
      ],
      "text/html": [
       "<div>\n",
       "<style scoped>\n",
       "    .dataframe tbody tr th:only-of-type {\n",
       "        vertical-align: middle;\n",
       "    }\n",
       "\n",
       "    .dataframe tbody tr th {\n",
       "        vertical-align: top;\n",
       "    }\n",
       "\n",
       "    .dataframe thead th {\n",
       "        text-align: right;\n",
       "    }\n",
       "</style>\n",
       "<table border=\"1\" class=\"dataframe\">\n",
       "  <thead>\n",
       "    <tr style=\"text-align: right;\">\n",
       "      <th></th>\n",
       "      <th>AAPL</th>\n",
       "      <th>NVDA</th>\n",
       "    </tr>\n",
       "    <tr>\n",
       "      <th>Date</th>\n",
       "      <th></th>\n",
       "      <th></th>\n",
       "    </tr>\n",
       "  </thead>\n",
       "  <tbody>\n",
       "    <tr>\n",
       "      <th>2007-01-03</th>\n",
       "      <td>NaN</td>\n",
       "      <td>NaN</td>\n",
       "    </tr>\n",
       "    <tr>\n",
       "      <th>2007-01-04</th>\n",
       "      <td>0.021953</td>\n",
       "      <td>-0.004722</td>\n",
       "    </tr>\n",
       "    <tr>\n",
       "      <th>2007-01-05</th>\n",
       "      <td>-0.007147</td>\n",
       "      <td>-0.064706</td>\n",
       "    </tr>\n",
       "    <tr>\n",
       "      <th>2007-01-08</th>\n",
       "      <td>0.004926</td>\n",
       "      <td>0.007400</td>\n",
       "    </tr>\n",
       "    <tr>\n",
       "      <th>2007-01-09</th>\n",
       "      <td>0.079800</td>\n",
       "      <td>-0.019655</td>\n",
       "    </tr>\n",
       "    <tr>\n",
       "      <th>...</th>\n",
       "      <td>...</td>\n",
       "      <td>...</td>\n",
       "    </tr>\n",
       "    <tr>\n",
       "      <th>2024-06-18</th>\n",
       "      <td>-0.011045</td>\n",
       "      <td>0.034517</td>\n",
       "    </tr>\n",
       "    <tr>\n",
       "      <th>2024-06-20</th>\n",
       "      <td>-0.021748</td>\n",
       "      <td>-0.036045</td>\n",
       "    </tr>\n",
       "    <tr>\n",
       "      <th>2024-06-21</th>\n",
       "      <td>-0.010499</td>\n",
       "      <td>-0.032721</td>\n",
       "    </tr>\n",
       "    <tr>\n",
       "      <th>2024-06-24</th>\n",
       "      <td>0.003128</td>\n",
       "      <td>-0.069179</td>\n",
       "    </tr>\n",
       "    <tr>\n",
       "      <th>2024-06-25</th>\n",
       "      <td>0.004458</td>\n",
       "      <td>0.065380</td>\n",
       "    </tr>\n",
       "  </tbody>\n",
       "</table>\n",
       "<p>4399 rows × 2 columns</p>\n",
       "</div>"
      ]
     },
     "execution_count": 20,
     "metadata": {},
     "output_type": "execute_result"
    }
   ],
   "execution_count": 20
  },
  {
   "metadata": {
    "ExecuteTime": {
     "end_time": "2024-06-25T20:04:50.074851Z",
     "start_time": "2024-06-25T20:04:50.072105Z"
    }
   },
   "cell_type": "code",
   "source": "sec_returns['AAPL'].mean()",
   "id": "5350f9445cab6a7f",
   "outputs": [
    {
     "data": {
      "text/plain": [
       "0.0010037115958746526"
      ]
     },
     "execution_count": 21,
     "metadata": {},
     "output_type": "execute_result"
    }
   ],
   "execution_count": 21
  },
  {
   "metadata": {
    "ExecuteTime": {
     "end_time": "2024-06-25T20:04:56.595254Z",
     "start_time": "2024-06-25T20:04:56.592983Z"
    }
   },
   "cell_type": "code",
   "source": "sec_returns['AAPL'].mean() * 250",
   "id": "7e4dc9f9d29667ce",
   "outputs": [
    {
     "data": {
      "text/plain": [
       "0.25092789896866313"
      ]
     },
     "execution_count": 22,
     "metadata": {},
     "output_type": "execute_result"
    }
   ],
   "execution_count": 22
  },
  {
   "metadata": {
    "ExecuteTime": {
     "end_time": "2024-06-25T20:05:01.989964Z",
     "start_time": "2024-06-25T20:05:01.987231Z"
    }
   },
   "cell_type": "code",
   "source": "sec_returns['AAPL'].std()",
   "id": "9f16e3482c75398f",
   "outputs": [
    {
     "data": {
      "text/plain": [
       "0.019932232296523588"
      ]
     },
     "execution_count": 23,
     "metadata": {},
     "output_type": "execute_result"
    }
   ],
   "execution_count": 23
  },
  {
   "metadata": {
    "ExecuteTime": {
     "end_time": "2024-06-25T20:05:53.268739Z",
     "start_time": "2024-06-25T20:05:53.265911Z"
    }
   },
   "cell_type": "code",
   "source": "sec_returns['AAPL'].std() * 250 ** 0.5",
   "id": "6a19bf14dc4335fe",
   "outputs": [
    {
     "data": {
      "text/plain": [
       "0.31515626454291606"
      ]
     },
     "execution_count": 24,
     "metadata": {},
     "output_type": "execute_result"
    }
   ],
   "execution_count": 24
  },
  {
   "metadata": {
    "ExecuteTime": {
     "end_time": "2024-06-25T20:05:56.679834Z",
     "start_time": "2024-06-25T20:05:56.677181Z"
    }
   },
   "cell_type": "code",
   "source": "sec_returns['NVDA'].mean()",
   "id": "d9be2713a18d9ac0",
   "outputs": [
    {
     "data": {
      "text/plain": [
       "0.001235107516552573"
      ]
     },
     "execution_count": 25,
     "metadata": {},
     "output_type": "execute_result"
    }
   ],
   "execution_count": 25
  },
  {
   "metadata": {
    "ExecuteTime": {
     "end_time": "2024-06-25T20:05:58.479723Z",
     "start_time": "2024-06-25T20:05:58.476607Z"
    }
   },
   "cell_type": "code",
   "source": "sec_returns['NVDA'].mean() * 250",
   "id": "65a0689b0a2f084d",
   "outputs": [
    {
     "data": {
      "text/plain": [
       "0.3087768791381432"
      ]
     },
     "execution_count": 26,
     "metadata": {},
     "output_type": "execute_result"
    }
   ],
   "execution_count": 26
  },
  {
   "metadata": {
    "ExecuteTime": {
     "end_time": "2024-06-25T20:06:00.500653Z",
     "start_time": "2024-06-25T20:06:00.497858Z"
    }
   },
   "cell_type": "code",
   "source": "sec_returns['NVDA'].std()",
   "id": "afc483148c607d5f",
   "outputs": [
    {
     "data": {
      "text/plain": [
       "0.030991734088993427"
      ]
     },
     "execution_count": 27,
     "metadata": {},
     "output_type": "execute_result"
    }
   ],
   "execution_count": 27
  },
  {
   "metadata": {
    "ExecuteTime": {
     "end_time": "2024-06-25T20:06:15.237007Z",
     "start_time": "2024-06-25T20:06:15.234348Z"
    }
   },
   "cell_type": "code",
   "source": "sec_returns['NVDA'].std() * 250 ** 0.5",
   "id": "e48d1f7aea869024",
   "outputs": [
    {
     "data": {
      "text/plain": [
       "0.49002234179751364"
      ]
     },
     "execution_count": 28,
     "metadata": {},
     "output_type": "execute_result"
    }
   ],
   "execution_count": 28
  },
  {
   "metadata": {
    "ExecuteTime": {
     "end_time": "2024-06-25T20:06:47.408765Z",
     "start_time": "2024-06-25T20:06:47.404696Z"
    }
   },
   "cell_type": "code",
   "source": "sec_returns[['AAPL', 'NVDA']].mean() * 250",
   "id": "315854529e080b55",
   "outputs": [
    {
     "data": {
      "text/plain": [
       "AAPL    0.250928\n",
       "NVDA    0.308777\n",
       "dtype: float64"
      ]
     },
     "execution_count": 29,
     "metadata": {},
     "output_type": "execute_result"
    }
   ],
   "execution_count": 29
  },
  {
   "metadata": {
    "ExecuteTime": {
     "end_time": "2024-06-25T20:07:32.015511Z",
     "start_time": "2024-06-25T20:07:32.012042Z"
    }
   },
   "cell_type": "code",
   "source": "sec_returns[['AAPL', 'NVDA']].std() * 250 ** 0.5",
   "id": "bb5504cc5441132a",
   "outputs": [
    {
     "data": {
      "text/plain": [
       "AAPL    0.315156\n",
       "NVDA    0.490022\n",
       "dtype: float64"
      ]
     },
     "execution_count": 30,
     "metadata": {},
     "output_type": "execute_result"
    }
   ],
   "execution_count": 30
  },
  {
   "metadata": {
    "ExecuteTime": {
     "end_time": "2024-06-25T20:07:43.917640Z",
     "start_time": "2024-06-25T20:07:43.913973Z"
    }
   },
   "cell_type": "code",
   "source": "sec_returns[['AAPL', 'NVDA']].std() * 250 ** 0.5",
   "id": "bb81e77e13226c24",
   "outputs": [
    {
     "data": {
      "text/plain": [
       "AAPL    0.315156\n",
       "NVDA    0.490022\n",
       "dtype: float64"
      ]
     },
     "execution_count": 31,
     "metadata": {},
     "output_type": "execute_result"
    }
   ],
   "execution_count": 31
  },
  {
   "metadata": {},
   "cell_type": "code",
   "outputs": [],
   "execution_count": null,
   "source": "",
   "id": "e1378cda16568954"
  }
 ],
 "metadata": {
  "kernelspec": {
   "display_name": "Python 3",
   "language": "python",
   "name": "python3"
  },
  "language_info": {
   "codemirror_mode": {
    "name": "ipython",
    "version": 2
   },
   "file_extension": ".py",
   "mimetype": "text/x-python",
   "name": "python",
   "nbconvert_exporter": "python",
   "pygments_lexer": "ipython2",
   "version": "2.7.6"
  }
 },
 "nbformat": 4,
 "nbformat_minor": 5
}
